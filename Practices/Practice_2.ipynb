{
  "nbformat": 4,
  "nbformat_minor": 0,
  "metadata": {
    "colab": {
      "provenance": [],
      "authorship_tag": "ABX9TyPcEFZRAcRhLD5KYAW+v7W5",
      "include_colab_link": true
    },
    "kernelspec": {
      "name": "python3",
      "display_name": "Python 3"
    },
    "language_info": {
      "name": "python"
    },
    "widgets": {
      "application/vnd.jupyter.widget-state+json": {
        "6d891e7649fa48bcbb8e902d9e608d83": {
          "model_module": "@jupyter-widgets/controls",
          "model_name": "DropdownModel",
          "model_module_version": "1.5.0",
          "state": {
            "_dom_classes": [],
            "_model_module": "@jupyter-widgets/controls",
            "_model_module_version": "1.5.0",
            "_model_name": "DropdownModel",
            "_options_labels": [
              "Alon Ternerider",
              "Nadav Goldin",
              "matan czuckermann",
              "tzahi bakal",
              "daniel armaganian"
            ],
            "_view_count": null,
            "_view_module": "@jupyter-widgets/controls",
            "_view_module_version": "1.5.0",
            "_view_name": "DropdownView",
            "description": "Student:",
            "description_tooltip": null,
            "disabled": false,
            "index": 1,
            "layout": "IPY_MODEL_8f662b326dd44350a98a2c0dcc6cdad2",
            "style": "IPY_MODEL_4d7ecb31517644dd94a2166a3cfc9351"
          }
        },
        "8f662b326dd44350a98a2c0dcc6cdad2": {
          "model_module": "@jupyter-widgets/base",
          "model_name": "LayoutModel",
          "model_module_version": "1.2.0",
          "state": {
            "_model_module": "@jupyter-widgets/base",
            "_model_module_version": "1.2.0",
            "_model_name": "LayoutModel",
            "_view_count": null,
            "_view_module": "@jupyter-widgets/base",
            "_view_module_version": "1.2.0",
            "_view_name": "LayoutView",
            "align_content": null,
            "align_items": null,
            "align_self": null,
            "border": null,
            "bottom": null,
            "display": null,
            "flex": null,
            "flex_flow": null,
            "grid_area": null,
            "grid_auto_columns": null,
            "grid_auto_flow": null,
            "grid_auto_rows": null,
            "grid_column": null,
            "grid_gap": null,
            "grid_row": null,
            "grid_template_areas": null,
            "grid_template_columns": null,
            "grid_template_rows": null,
            "height": null,
            "justify_content": null,
            "justify_items": null,
            "left": null,
            "margin": null,
            "max_height": null,
            "max_width": null,
            "min_height": null,
            "min_width": null,
            "object_fit": null,
            "object_position": null,
            "order": null,
            "overflow": null,
            "overflow_x": null,
            "overflow_y": null,
            "padding": null,
            "right": null,
            "top": null,
            "visibility": null,
            "width": null
          }
        },
        "4d7ecb31517644dd94a2166a3cfc9351": {
          "model_module": "@jupyter-widgets/controls",
          "model_name": "DescriptionStyleModel",
          "model_module_version": "1.5.0",
          "state": {
            "_model_module": "@jupyter-widgets/controls",
            "_model_module_version": "1.5.0",
            "_model_name": "DescriptionStyleModel",
            "_view_count": null,
            "_view_module": "@jupyter-widgets/base",
            "_view_module_version": "1.2.0",
            "_view_name": "StyleView",
            "description_width": ""
          }
        },
        "86930bda3b15432e84c3dc81485becc7": {
          "model_module": "@jupyter-widgets/controls",
          "model_name": "HBoxModel",
          "model_module_version": "1.5.0",
          "state": {
            "_dom_classes": [],
            "_model_module": "@jupyter-widgets/controls",
            "_model_module_version": "1.5.0",
            "_model_name": "HBoxModel",
            "_view_count": null,
            "_view_module": "@jupyter-widgets/controls",
            "_view_module_version": "1.5.0",
            "_view_name": "HBoxView",
            "box_style": "",
            "children": [
              "IPY_MODEL_b184e5b54d4247628357c0d8072cdd10",
              "IPY_MODEL_b63e7d5bce5a4c6c8b26525c1194983c",
              "IPY_MODEL_72e4c2b8215e4018b25c1b880989703c"
            ],
            "layout": "IPY_MODEL_76acbd43327f430b91c8664ddea751a3"
          }
        },
        "b184e5b54d4247628357c0d8072cdd10": {
          "model_module": "@jupyter-widgets/controls",
          "model_name": "TextareaModel",
          "model_module_version": "1.5.0",
          "state": {
            "_dom_classes": [],
            "_model_module": "@jupyter-widgets/controls",
            "_model_module_version": "1.5.0",
            "_model_name": "TextareaModel",
            "_view_count": null,
            "_view_module": "@jupyter-widgets/controls",
            "_view_module_version": "1.5.0",
            "_view_name": "TextareaView",
            "continuous_update": true,
            "description": "email:",
            "description_tooltip": null,
            "disabled": true,
            "layout": "IPY_MODEL_2c913b2e8ce948bb965b5e154886135c",
            "placeholder": "​",
            "rows": null,
            "style": "IPY_MODEL_8875841824db4640a832662ddcf9f3d6",
            "value": "nadav.goldin@braude.ac.il"
          }
        },
        "b63e7d5bce5a4c6c8b26525c1194983c": {
          "model_module": "@jupyter-widgets/controls",
          "model_name": "TextareaModel",
          "model_module_version": "1.5.0",
          "state": {
            "_dom_classes": [],
            "_model_module": "@jupyter-widgets/controls",
            "_model_module_version": "1.5.0",
            "_model_name": "TextareaModel",
            "_view_count": null,
            "_view_module": "@jupyter-widgets/controls",
            "_view_module_version": "1.5.0",
            "_view_name": "TextareaView",
            "continuous_update": true,
            "description": "courses:",
            "description_tooltip": null,
            "disabled": true,
            "layout": "IPY_MODEL_b6bdc0e4d50e4bb6b50e12d2b90b5be3",
            "placeholder": "​",
            "rows": null,
            "style": "IPY_MODEL_164c164336884ea3916fd8e5acb62e0c",
            "value": "cloud\nWEB\nphyisics\nAI\nML\nCompilation"
          }
        },
        "72e4c2b8215e4018b25c1b880989703c": {
          "model_module": "@jupyter-widgets/controls",
          "model_name": "TextareaModel",
          "model_module_version": "1.5.0",
          "state": {
            "_dom_classes": [],
            "_model_module": "@jupyter-widgets/controls",
            "_model_module_version": "1.5.0",
            "_model_name": "TextareaModel",
            "_view_count": null,
            "_view_module": "@jupyter-widgets/controls",
            "_view_module_version": "1.5.0",
            "_view_name": "TextareaView",
            "continuous_update": true,
            "description": "link:",
            "description_tooltip": null,
            "disabled": false,
            "layout": "IPY_MODEL_32ce70d5f7e44c4da3104465e4ea0437",
            "placeholder": "​",
            "rows": null,
            "style": "IPY_MODEL_9232224bca6e41ee96fb86d0d007a9be",
            "value": "https://github.com/ndvp39/ChessGame"
          }
        },
        "76acbd43327f430b91c8664ddea751a3": {
          "model_module": "@jupyter-widgets/base",
          "model_name": "LayoutModel",
          "model_module_version": "1.2.0",
          "state": {
            "_model_module": "@jupyter-widgets/base",
            "_model_module_version": "1.2.0",
            "_model_name": "LayoutModel",
            "_view_count": null,
            "_view_module": "@jupyter-widgets/base",
            "_view_module_version": "1.2.0",
            "_view_name": "LayoutView",
            "align_content": null,
            "align_items": null,
            "align_self": null,
            "border": null,
            "bottom": null,
            "display": null,
            "flex": null,
            "flex_flow": null,
            "grid_area": null,
            "grid_auto_columns": null,
            "grid_auto_flow": null,
            "grid_auto_rows": null,
            "grid_column": null,
            "grid_gap": null,
            "grid_row": null,
            "grid_template_areas": null,
            "grid_template_columns": null,
            "grid_template_rows": null,
            "height": null,
            "justify_content": null,
            "justify_items": null,
            "left": null,
            "margin": null,
            "max_height": null,
            "max_width": null,
            "min_height": null,
            "min_width": null,
            "object_fit": null,
            "object_position": null,
            "order": null,
            "overflow": null,
            "overflow_x": null,
            "overflow_y": null,
            "padding": null,
            "right": null,
            "top": null,
            "visibility": null,
            "width": null
          }
        },
        "2c913b2e8ce948bb965b5e154886135c": {
          "model_module": "@jupyter-widgets/base",
          "model_name": "LayoutModel",
          "model_module_version": "1.2.0",
          "state": {
            "_model_module": "@jupyter-widgets/base",
            "_model_module_version": "1.2.0",
            "_model_name": "LayoutModel",
            "_view_count": null,
            "_view_module": "@jupyter-widgets/base",
            "_view_module_version": "1.2.0",
            "_view_name": "LayoutView",
            "align_content": null,
            "align_items": null,
            "align_self": null,
            "border": null,
            "bottom": null,
            "display": null,
            "flex": null,
            "flex_flow": null,
            "grid_area": null,
            "grid_auto_columns": null,
            "grid_auto_flow": null,
            "grid_auto_rows": null,
            "grid_column": null,
            "grid_gap": null,
            "grid_row": null,
            "grid_template_areas": null,
            "grid_template_columns": null,
            "grid_template_rows": null,
            "height": "100px",
            "justify_content": null,
            "justify_items": null,
            "left": null,
            "margin": null,
            "max_height": null,
            "max_width": null,
            "min_height": null,
            "min_width": null,
            "object_fit": null,
            "object_position": null,
            "order": null,
            "overflow": null,
            "overflow_x": null,
            "overflow_y": null,
            "padding": null,
            "right": null,
            "top": null,
            "visibility": null,
            "width": "400px"
          }
        },
        "8875841824db4640a832662ddcf9f3d6": {
          "model_module": "@jupyter-widgets/controls",
          "model_name": "DescriptionStyleModel",
          "model_module_version": "1.5.0",
          "state": {
            "_model_module": "@jupyter-widgets/controls",
            "_model_module_version": "1.5.0",
            "_model_name": "DescriptionStyleModel",
            "_view_count": null,
            "_view_module": "@jupyter-widgets/base",
            "_view_module_version": "1.2.0",
            "_view_name": "StyleView",
            "description_width": ""
          }
        },
        "b6bdc0e4d50e4bb6b50e12d2b90b5be3": {
          "model_module": "@jupyter-widgets/base",
          "model_name": "LayoutModel",
          "model_module_version": "1.2.0",
          "state": {
            "_model_module": "@jupyter-widgets/base",
            "_model_module_version": "1.2.0",
            "_model_name": "LayoutModel",
            "_view_count": null,
            "_view_module": "@jupyter-widgets/base",
            "_view_module_version": "1.2.0",
            "_view_name": "LayoutView",
            "align_content": null,
            "align_items": null,
            "align_self": null,
            "border": null,
            "bottom": null,
            "display": null,
            "flex": null,
            "flex_flow": null,
            "grid_area": null,
            "grid_auto_columns": null,
            "grid_auto_flow": null,
            "grid_auto_rows": null,
            "grid_column": null,
            "grid_gap": null,
            "grid_row": null,
            "grid_template_areas": null,
            "grid_template_columns": null,
            "grid_template_rows": null,
            "height": "100px",
            "justify_content": null,
            "justify_items": null,
            "left": null,
            "margin": null,
            "max_height": null,
            "max_width": null,
            "min_height": null,
            "min_width": null,
            "object_fit": null,
            "object_position": null,
            "order": null,
            "overflow": null,
            "overflow_x": null,
            "overflow_y": null,
            "padding": null,
            "right": null,
            "top": null,
            "visibility": null,
            "width": "400px"
          }
        },
        "164c164336884ea3916fd8e5acb62e0c": {
          "model_module": "@jupyter-widgets/controls",
          "model_name": "DescriptionStyleModel",
          "model_module_version": "1.5.0",
          "state": {
            "_model_module": "@jupyter-widgets/controls",
            "_model_module_version": "1.5.0",
            "_model_name": "DescriptionStyleModel",
            "_view_count": null,
            "_view_module": "@jupyter-widgets/base",
            "_view_module_version": "1.2.0",
            "_view_name": "StyleView",
            "description_width": ""
          }
        },
        "32ce70d5f7e44c4da3104465e4ea0437": {
          "model_module": "@jupyter-widgets/base",
          "model_name": "LayoutModel",
          "model_module_version": "1.2.0",
          "state": {
            "_model_module": "@jupyter-widgets/base",
            "_model_module_version": "1.2.0",
            "_model_name": "LayoutModel",
            "_view_count": null,
            "_view_module": "@jupyter-widgets/base",
            "_view_module_version": "1.2.0",
            "_view_name": "LayoutView",
            "align_content": null,
            "align_items": null,
            "align_self": null,
            "border": null,
            "bottom": null,
            "display": null,
            "flex": null,
            "flex_flow": null,
            "grid_area": null,
            "grid_auto_columns": null,
            "grid_auto_flow": null,
            "grid_auto_rows": null,
            "grid_column": null,
            "grid_gap": null,
            "grid_row": null,
            "grid_template_areas": null,
            "grid_template_columns": null,
            "grid_template_rows": null,
            "height": "100px",
            "justify_content": null,
            "justify_items": null,
            "left": null,
            "margin": null,
            "max_height": null,
            "max_width": null,
            "min_height": null,
            "min_width": null,
            "object_fit": null,
            "object_position": null,
            "order": null,
            "overflow": null,
            "overflow_x": null,
            "overflow_y": null,
            "padding": null,
            "right": null,
            "top": null,
            "visibility": null,
            "width": "400px"
          }
        },
        "9232224bca6e41ee96fb86d0d007a9be": {
          "model_module": "@jupyter-widgets/controls",
          "model_name": "DescriptionStyleModel",
          "model_module_version": "1.5.0",
          "state": {
            "_model_module": "@jupyter-widgets/controls",
            "_model_module_version": "1.5.0",
            "_model_name": "DescriptionStyleModel",
            "_view_count": null,
            "_view_module": "@jupyter-widgets/base",
            "_view_module_version": "1.2.0",
            "_view_name": "StyleView",
            "description_width": ""
          }
        },
        "e3f93dc1c217445e98eb6df7b9454ba7": {
          "model_module": "@jupyter-widgets/controls",
          "model_name": "TextareaModel",
          "model_module_version": "1.5.0",
          "state": {
            "_dom_classes": [],
            "_model_module": "@jupyter-widgets/controls",
            "_model_module_version": "1.5.0",
            "_model_name": "TextareaModel",
            "_view_count": null,
            "_view_module": "@jupyter-widgets/controls",
            "_view_module_version": "1.5.0",
            "_view_name": "TextareaView",
            "continuous_update": true,
            "description": "TV Show:",
            "description_tooltip": null,
            "disabled": false,
            "layout": "IPY_MODEL_1393f9dd7a7144abac4fbcdc63954ea9",
            "placeholder": "​",
            "rows": null,
            "style": "IPY_MODEL_55e9535d27754554beb07f0bce114e84",
            "value": ""
          }
        },
        "1393f9dd7a7144abac4fbcdc63954ea9": {
          "model_module": "@jupyter-widgets/base",
          "model_name": "LayoutModel",
          "model_module_version": "1.2.0",
          "state": {
            "_model_module": "@jupyter-widgets/base",
            "_model_module_version": "1.2.0",
            "_model_name": "LayoutModel",
            "_view_count": null,
            "_view_module": "@jupyter-widgets/base",
            "_view_module_version": "1.2.0",
            "_view_name": "LayoutView",
            "align_content": null,
            "align_items": null,
            "align_self": null,
            "border": null,
            "bottom": null,
            "display": null,
            "flex": null,
            "flex_flow": null,
            "grid_area": null,
            "grid_auto_columns": null,
            "grid_auto_flow": null,
            "grid_auto_rows": null,
            "grid_column": null,
            "grid_gap": null,
            "grid_row": null,
            "grid_template_areas": null,
            "grid_template_columns": null,
            "grid_template_rows": null,
            "height": "100px",
            "justify_content": null,
            "justify_items": null,
            "left": null,
            "margin": null,
            "max_height": null,
            "max_width": null,
            "min_height": null,
            "min_width": null,
            "object_fit": null,
            "object_position": null,
            "order": null,
            "overflow": null,
            "overflow_x": null,
            "overflow_y": null,
            "padding": null,
            "right": null,
            "top": null,
            "visibility": null,
            "width": "400px"
          }
        },
        "55e9535d27754554beb07f0bce114e84": {
          "model_module": "@jupyter-widgets/controls",
          "model_name": "DescriptionStyleModel",
          "model_module_version": "1.5.0",
          "state": {
            "_model_module": "@jupyter-widgets/controls",
            "_model_module_version": "1.5.0",
            "_model_name": "DescriptionStyleModel",
            "_view_count": null,
            "_view_module": "@jupyter-widgets/base",
            "_view_module_version": "1.2.0",
            "_view_name": "StyleView",
            "description_width": ""
          }
        },
        "444af13397954b0ca0468cd9761da29a": {
          "model_module": "@jupyter-widgets/controls",
          "model_name": "ButtonModel",
          "model_module_version": "1.5.0",
          "state": {
            "_dom_classes": [],
            "_model_module": "@jupyter-widgets/controls",
            "_model_module_version": "1.5.0",
            "_model_name": "ButtonModel",
            "_view_count": null,
            "_view_module": "@jupyter-widgets/controls",
            "_view_module_version": "1.5.0",
            "_view_name": "ButtonView",
            "button_style": "",
            "description": "Save TV Show",
            "disabled": false,
            "icon": "",
            "layout": "IPY_MODEL_009d20fb46d544a49a10f700757b90ba",
            "style": "IPY_MODEL_73f43db2a5a14e43afc7778f241bb8a6",
            "tooltip": ""
          }
        },
        "009d20fb46d544a49a10f700757b90ba": {
          "model_module": "@jupyter-widgets/base",
          "model_name": "LayoutModel",
          "model_module_version": "1.2.0",
          "state": {
            "_model_module": "@jupyter-widgets/base",
            "_model_module_version": "1.2.0",
            "_model_name": "LayoutModel",
            "_view_count": null,
            "_view_module": "@jupyter-widgets/base",
            "_view_module_version": "1.2.0",
            "_view_name": "LayoutView",
            "align_content": null,
            "align_items": null,
            "align_self": null,
            "border": null,
            "bottom": null,
            "display": null,
            "flex": null,
            "flex_flow": null,
            "grid_area": null,
            "grid_auto_columns": null,
            "grid_auto_flow": null,
            "grid_auto_rows": null,
            "grid_column": null,
            "grid_gap": null,
            "grid_row": null,
            "grid_template_areas": null,
            "grid_template_columns": null,
            "grid_template_rows": null,
            "height": null,
            "justify_content": null,
            "justify_items": null,
            "left": null,
            "margin": null,
            "max_height": null,
            "max_width": null,
            "min_height": null,
            "min_width": null,
            "object_fit": null,
            "object_position": null,
            "order": null,
            "overflow": null,
            "overflow_x": null,
            "overflow_y": null,
            "padding": null,
            "right": null,
            "top": null,
            "visibility": null,
            "width": null
          }
        },
        "73f43db2a5a14e43afc7778f241bb8a6": {
          "model_module": "@jupyter-widgets/controls",
          "model_name": "ButtonStyleModel",
          "model_module_version": "1.5.0",
          "state": {
            "_model_module": "@jupyter-widgets/controls",
            "_model_module_version": "1.5.0",
            "_model_name": "ButtonStyleModel",
            "_view_count": null,
            "_view_module": "@jupyter-widgets/base",
            "_view_module_version": "1.2.0",
            "_view_name": "StyleView",
            "button_color": null,
            "font_weight": ""
          }
        }
      }
    }
  },
  "cells": [
    {
      "cell_type": "markdown",
      "metadata": {
        "id": "view-in-github",
        "colab_type": "text"
      },
      "source": [
        "<a href=\"https://colab.research.google.com/github/ndvp39/CloudComputing-tirgul/blob/main/tirgul2.ipynb\" target=\"_parent\"><img src=\"https://colab.research.google.com/assets/colab-badge.svg\" alt=\"Open In Colab\"/></a>"
      ]
    },
    {
      "cell_type": "code",
      "execution_count": 16,
      "metadata": {
        "colab": {
          "base_uri": "https://localhost:8080/"
        },
        "id": "wdgCJVDn8IAe",
        "outputId": "4264b05d-a0f4-4be9-b5e0-84bf0e05ef6f"
      },
      "outputs": [
        {
          "output_type": "stream",
          "name": "stdout",
          "text": [
            "Drive already mounted at /content/drive; to attempt to forcibly remount, call drive.mount(\"/content/drive\", force_remount=True).\n"
          ]
        }
      ],
      "source": [
        "from google.colab import drive\n",
        "drive.mount('/content/drive')\n",
        "import json\n",
        "\n",
        "\n",
        "from ipywidgets import widgets, HBox, Layout\n",
        "from IPython.display import display, clear_output, Markdown\n"
      ]
    },
    {
      "cell_type": "code",
      "source": [
        "\n",
        "studentsList = []\n",
        "with open('/content/drive/My Drive/CloudComputing/students.json') as f:\n",
        "    studentsList = json.loads(jsonObj)\n",
        "\n",
        "for student in studentsList:\n",
        "    print(student[\"name\"], student[\"email\"], student[\"courses\"], student[\"web\"])"
      ],
      "metadata": {
        "colab": {
          "base_uri": "https://localhost:8080/"
        },
        "id": "YLvqPuol8QgV",
        "outputId": "60f954f3-008c-44f5-e7c7-d7dce3d9297e"
      },
      "execution_count": 17,
      "outputs": [
        {
          "output_type": "stream",
          "name": "stdout",
          "text": [
            "Alon Ternerider alon.ternerider@braude.ac.il cloud WEB phyisics AI ML Compilation https://github.com/alon309\n",
            "Nadav Goldin nadav.goldin@braude.ac.il cloud WEB phyisics AI ML Compilation https://github.com/ndvp39/ChessGame\n",
            "matan czuckermann matan.czuckermann@braude.ac.il cloud WEB phyisics AI ML Compilation https://www.linkedin.com/in/matan-czuckermann-31994886/\n",
            "tzahi bakal tzahi.bakal@braude.ac.il cloud WEB phyisics AI ML Compilation https://www.linkedin.com/in/tzahi-bakal/\n",
            "daniel armaganian daniel.armaganian@braude.ac.il cloud WEB phyisics AI ML Compilation https://www.linkedin.com/in/daniarmag/\n"
          ]
        }
      ]
    },
    {
      "cell_type": "code",
      "source": [
        "# @title Students { form-width: \"100%\" }\n",
        "\n",
        "student_selected = None\n",
        "\n",
        "studentNameSelection = widgets.Dropdown(\n",
        "    options = [student[\"name\"] for student in studentsList],\n",
        "    value = None,\n",
        "    description = \"Student:\"\n",
        ")\n",
        "display(studentNameSelection)\n",
        "\n",
        "# Create text areas for student information\n",
        "output_box_email = widgets.Textarea(description=\"email:\", disabled=True, layout=Layout(width='400px', height='100px'))\n",
        "output_box_courses = widgets.Textarea(description=\"courses:\", disabled=True, layout=Layout(width='400px', height='100px'))\n",
        "output_box_link = widgets.Textarea(description=\"link:\", disabled=False, layout=Layout(width='400px', height='100px'))\n",
        "# Display the text areas using HBox\n",
        "output_boxes = HBox([output_box_email, output_box_courses, output_box_link])\n",
        "\n",
        "def onClickSaveTvShow(_):\n",
        "  student_TvShow_entered = input_box_TVshow.value\n",
        "  studentTv = {\"TV_show\": student_TvShow_entered}\n",
        "  global student_selected\n",
        "  student_selected.update(studentTv)\n",
        "  with open('/content/drive/My Drive/CloudComputing/students.json', 'w') as f:\n",
        "    json.dump(studentsList, f)\n",
        "\n",
        "\n",
        "\n",
        "input_box_TVshow = widgets.Textarea(description=\"TV Show:\", disabled=False, layout=Layout(width='400px', height='100px'))\n",
        "button_saveTVshow = widgets.Button(description=\"Save TV Show\")\n",
        "button_saveTVshow.on_click(onClickSaveTvShow)\n",
        "\n",
        "# set the information of the student in the output_boxes\n",
        "def studentSelected(student):\n",
        "  clear_output()\n",
        "  input_box_TVshow.value = \"\"\n",
        "  display(studentNameSelection, output_boxes, input_box_TVshow, button_saveTVshow)\n",
        "\n",
        "  output_box_email.value = student[\"email\"]\n",
        "  s_courses = student[\"courses\"].replace(' ', '\\n')\n",
        "  output_box_courses.value = s_courses\n",
        "  output_box_link.value = student[\"web\"]\n",
        "\n",
        "# Function to handle changes in the dropdown value\n",
        "def onSelectStudent(change):\n",
        "  for student in studentsList:\n",
        "    if(student[\"name\"] == change.new):\n",
        "      studentSelected(student)\n",
        "      global student_selected\n",
        "      student_selected = student\n",
        "      return\n",
        "\n",
        "\n",
        "\n",
        "\n",
        "\n",
        "\n",
        "# Attach the observer to the dropdown widget\n",
        "studentNameSelection.observe(onSelectStudent, names='value')"
      ],
      "metadata": {
        "colab": {
          "base_uri": "https://localhost:8080/",
          "height": 289,
          "referenced_widgets": [
            "6d891e7649fa48bcbb8e902d9e608d83",
            "8f662b326dd44350a98a2c0dcc6cdad2",
            "4d7ecb31517644dd94a2166a3cfc9351",
            "86930bda3b15432e84c3dc81485becc7",
            "b184e5b54d4247628357c0d8072cdd10",
            "b63e7d5bce5a4c6c8b26525c1194983c",
            "72e4c2b8215e4018b25c1b880989703c",
            "76acbd43327f430b91c8664ddea751a3",
            "2c913b2e8ce948bb965b5e154886135c",
            "8875841824db4640a832662ddcf9f3d6",
            "b6bdc0e4d50e4bb6b50e12d2b90b5be3",
            "164c164336884ea3916fd8e5acb62e0c",
            "32ce70d5f7e44c4da3104465e4ea0437",
            "9232224bca6e41ee96fb86d0d007a9be",
            "e3f93dc1c217445e98eb6df7b9454ba7",
            "1393f9dd7a7144abac4fbcdc63954ea9",
            "55e9535d27754554beb07f0bce114e84",
            "444af13397954b0ca0468cd9761da29a",
            "009d20fb46d544a49a10f700757b90ba",
            "73f43db2a5a14e43afc7778f241bb8a6"
          ]
        },
        "id": "vJzJabLH96xr",
        "outputId": "dfd1265c-64c5-499e-dbba-2020d2210dec"
      },
      "execution_count": 18,
      "outputs": [
        {
          "output_type": "display_data",
          "data": {
            "text/plain": [
              "Dropdown(description='Student:', index=1, options=('Alon Ternerider', 'Nadav Goldin', 'matan czuckermann', 'tz…"
            ],
            "application/vnd.jupyter.widget-view+json": {
              "version_major": 2,
              "version_minor": 0,
              "model_id": "6d891e7649fa48bcbb8e902d9e608d83"
            }
          },
          "metadata": {}
        },
        {
          "output_type": "display_data",
          "data": {
            "text/plain": [
              "HBox(children=(Textarea(value='tzahi.bakal@braude.ac.il', description='email:', disabled=True, layout=Layout(h…"
            ],
            "application/vnd.jupyter.widget-view+json": {
              "version_major": 2,
              "version_minor": 0,
              "model_id": "86930bda3b15432e84c3dc81485becc7"
            }
          },
          "metadata": {}
        },
        {
          "output_type": "display_data",
          "data": {
            "text/plain": [
              "Textarea(value='', description='TV Show:', layout=Layout(height='100px', width='400px'))"
            ],
            "application/vnd.jupyter.widget-view+json": {
              "version_major": 2,
              "version_minor": 0,
              "model_id": "e3f93dc1c217445e98eb6df7b9454ba7"
            }
          },
          "metadata": {}
        },
        {
          "output_type": "display_data",
          "data": {
            "text/plain": [
              "Button(description='Save TV Show', style=ButtonStyle())"
            ],
            "application/vnd.jupyter.widget-view+json": {
              "version_major": 2,
              "version_minor": 0,
              "model_id": "444af13397954b0ca0468cd9761da29a"
            }
          },
          "metadata": {}
        }
      ]
    },
    {
      "cell_type": "code",
      "source": [],
      "metadata": {
        "id": "MvzgSVlZDfYc"
      },
      "execution_count": 18,
      "outputs": []
    }
  ]
}