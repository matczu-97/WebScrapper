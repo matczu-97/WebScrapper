{
  "cells": [
    {
      "cell_type": "markdown",
      "metadata": {
        "id": "view-in-github",
        "colab_type": "text"
      },
      "source": [
        "<a href=\"https://colab.research.google.com/github/ndvp39/CloudComputing-tirgul/blob/main/Project/Chatbot/chatbot.ipynb\" target=\"_parent\"><img src=\"https://colab.research.google.com/assets/colab-badge.svg\" alt=\"Open In Colab\"/></a>"
      ]
    },
    {
      "cell_type": "code",
      "source": [
        "#!pip install nltk\n",
        "#!pip install requests beautifulsoup4\n",
        "\n",
        "# activate only if run this file directly and not from searchEngine\n",
        "'''\n",
        "from bs4 import BeautifulSoup\n",
        "from nltk.chat.util import Chat, reflections\n",
        "from firebase_admin import credentials\n",
        "from firebase_admin import firestore\n",
        "import firebase_admin\n",
        "import nltk\n",
        "import requests\n",
        "\n",
        "!git clone \"https://github.com/ndvp39/CloudComputing-tirgul\"\n",
        "'''\n",
        "\n",
        "%cd /content/CloudComputing-tirgul/Project/Index/\n",
        "%run index.ipynb\n",
        "\n",
        "# Download necessary NLTK data\n",
        "# nltk.download('punkt')\n",
        "# nltk.download('wordnet')"
      ],
      "metadata": {
        "id": "FGzYOactlh27",
        "outputId": "189b35a9-ca24-4180-e258-9e56c0adad40",
        "colab": {
          "base_uri": "https://localhost:8080/"
        }
      },
      "execution_count": null,
      "outputs": [
        {
          "output_type": "stream",
          "name": "stdout",
          "text": [
            "/content/CloudComputing-tirgul/Project/Index\n"
          ]
        }
      ]
    },
    {
      "cell_type": "code",
      "source": [
        "index = get_index_from_db()"
      ],
      "metadata": {
        "id": "MRfLysdE43DX"
      },
      "execution_count": null,
      "outputs": []
    },
    {
      "cell_type": "code",
      "execution_count": null,
      "metadata": {
        "id": "Qu-nszRXeyxQ"
      },
      "outputs": [],
      "source": [
        "# Retrieves a link from a word in the index.\n",
        "def getLinkFromString(w,linkID):\n",
        "  for word, links in index.items():\n",
        "    if(word == w):\n",
        "      return list(links.keys())[linkID]"
      ]
    },
    {
      "cell_type": "code",
      "source": [
        "# Retrieves the first paragraph from a given URL for a chatbot response.\n",
        "def get_first_paragraph_from_link(url):\n",
        "    try:\n",
        "        # Make an HTTP request\n",
        "        response = requests.get(url)\n",
        "        # Check if the request was successful (status code 200)\n",
        "        if response.status_code == 200:\n",
        "            # Parse the HTML content\n",
        "            soup = BeautifulSoup(response.text, 'html.parser')\n",
        "            # Find the first <p> tag with the specified ID\n",
        "            h2_tag = soup.find('h2', {'id': 'overview'})\n",
        "            if h2_tag:\n",
        "              para = h2_tag.find_next('p')\n",
        "              if para:\n",
        "                return para.get_text()\n",
        "              else:\n",
        "                return\n",
        "                #return \"Paragraph after h2 with id: overview not found.\"\n",
        "            else:\n",
        "              div_tags = soup.find_all('div', {'class': 'rh-generic--component'})\n",
        "              # Check if there is at least a second occurrence\n",
        "              if len(div_tags) >= 2:\n",
        "                second_div_tag = div_tags[1]  # Select the second occurrence\n",
        "                para = second_div_tag.find_next('p').get_text()\n",
        "              elif len(div_tags) == 1:\n",
        "                first_div_tag = div_tags[0]  # Select the first occurrence\n",
        "                para = first_div_tag.find_next('p').get_text()\n",
        "              else:\n",
        "                return \"An error occurred. If this issue persists please re-try in a few seconds.\"\n",
        "            return para\n",
        "        else:\n",
        "            return f\"Failed to fetch the page. Status code: {response.status_code}\"\n",
        "    except Exception as e:\n",
        "        return f\"An error occurred: {e}\""
      ],
      "metadata": {
        "id": "fyPfzgti9aB2"
      },
      "execution_count": null,
      "outputs": []
    },
    {
      "cell_type": "code",
      "source": [
        "# Converts a list of patterns and their associated responses into a dictionary format for db use.\n",
        "def patterns_to_dict(patterns):\n",
        "    patterns_dict = []\n",
        "    for pattern, responses in patterns:\n",
        "        pattern_dict = {\n",
        "            'pattern': pattern,\n",
        "            'responses': responses\n",
        "        }\n",
        "        patterns_dict.append(pattern_dict)\n",
        "    return patterns_dict"
      ],
      "metadata": {
        "id": "szVFDg1Flx6N"
      },
      "execution_count": null,
      "outputs": []
    },
    {
      "cell_type": "code",
      "source": [
        "# Creates patterns for conversational responses based on indexed words and their associated links.\n",
        "def create_patterns():\n",
        "  for word, links in index.items():\n",
        "    answers = []\n",
        "    for i in range(len(links)):\n",
        "      link = getLinkFromString(word,i)\n",
        "      # Get the first paragraph from the link\n",
        "      first_para = get_first_paragraph_from_link(link)\n",
        "      if first_para == \"\": # also need to remove dates\n",
        "        continue\n",
        "      answers.append(first_para + f\"<br>you can read more in the link: {link}\")\n",
        "    # Create a pattern tuple\n",
        "    to_append = ( r'(.*)' + word + r'(.*)', answers)\n",
        "    patterns.append(to_append)"
      ],
      "metadata": {
        "id": "nUxTlcuRjgms"
      },
      "execution_count": null,
      "outputs": []
    },
    {
      "cell_type": "code",
      "source": [
        "# Upload the patterns to the db for faster use.\n",
        "def upload_to_db(data_list, collection_name):\n",
        "  try:\n",
        "    for data in data_list:\n",
        "        doc_ref = db.collection(collection_name).add(data)\n",
        "    print(\"All documents uploaded successfully.\")\n",
        "  except Exception as e:\n",
        "      print(\"Error:\", e)"
      ],
      "metadata": {
        "id": "ZPNJNEaVytHq"
      },
      "execution_count": null,
      "outputs": []
    },
    {
      "cell_type": "code",
      "source": [
        "# Get the patterns (responses) from db for quick answers from the chatbot.\n",
        "def get_patterns_from_db(db_collection_name):\n",
        "    patterns = []\n",
        "    collection_ref = db.collection(db_collection_name)\n",
        "    docs = collection_ref.get()\n",
        "    for doc in docs:\n",
        "        data = doc.to_dict()\n",
        "        pattern = r'(.*)' + data['pattern'] + r'(.*)'\n",
        "        responses = data['responses']\n",
        "        patterns.append((pattern, responses))\n",
        "    return patterns"
      ],
      "metadata": {
        "id": "CQO1M0Kv2wev"
      },
      "execution_count": null,
      "outputs": []
    },
    {
      "cell_type": "code",
      "source": [
        "# Helper function to remove a specific response. ### CURRENTLY NOT IN USE ###\n",
        "def delete_response_from_db(bot_response):\n",
        "    collection_ref = db.collection(\"ChatBotPatterns\")\n",
        "    docs = collection_ref.get()\n",
        "    for doc in docs:\n",
        "        doc_data = doc.to_dict()\n",
        "        # Check if the document has a 'responses' field\n",
        "        if 'responses' in doc_data:\n",
        "            # Iterate over responses in the 'responses' array\n",
        "            updated_responses = []\n",
        "            for response in doc_data['responses']:\n",
        "                # Check if the response contains the search string\n",
        "                if bot_response in response:\n",
        "                    # If it does, remove the string from the array\n",
        "                    continue\n",
        "                else:\n",
        "                    updated_responses.append(response)\n",
        "            # Update the document with the modified 'responses' array\n",
        "            doc.reference.update({'responses': updated_responses})"
      ],
      "metadata": {
        "id": "p-LmviMUb46A"
      },
      "execution_count": null,
      "outputs": []
    },
    {
      "cell_type": "markdown",
      "source": [
        "Main section for chatbot.ipynb"
      ],
      "metadata": {
        "id": "RinXB7aO9jsh"
      }
    },
    {
      "cell_type": "code",
      "source": [
        "patterns = [\n",
        "    (r'hi|hello|hey', ['Hello!', 'Hi there!', 'Hey!']),\n",
        "    (r'how are you?', ['I\\'m good, thank you!', 'I\\'m doing well, thanks for asking.']),\n",
        "    (r'what is your name?', ['You can call me PantherBOT.', 'I go by the name PantherBOT.']),\n",
        "    (r'your name (.*)', ['You can call me PantherBOT.', 'I go by the name PantherBOT.']),\n",
        "    (r'give me good cloud website', ['Sure, here: www.redhat.com', 'ofCourse: you can go to amazon, which works with RedHat website check both']),\n",
        "    (r'What kinds of clouds are there ?', ['There are three main kinds of clouds: private, public, and hybrid would you like me to explain further? ', 'public, hybrid, private - in secured order']),\n",
        "    (r'(.*)kinds of clouds(.*)?(.*)', ['There are three main kinds of clouds: private, public, and hybrid would you like me to explain further? ', 'public, hybrid, private - in secured order']),\n",
        "    (r'please explain further about clouds(.*)', ['cloud_explanation', \"for the moment I too tired, may be later I will explain. You should've listen in class \"])\n",
        "    # You can add more patterns and responses here\n",
        "]\n",
        "\n",
        "db_collection_name = \"ChatBotPatterns\"\n",
        "cred = credentials.Certificate(\"/content/CloudComputing-tirgul/Project/Json/sak.json\")\n",
        "if not firebase_admin._apps:\n",
        "  firebase_admin.initialize_app(cred)\n",
        "db = firestore.client()\n",
        "\n",
        "##### The long functions -> do not activate unless you want to change bot dialog ######\n",
        "\n",
        "# create_patterns()\n",
        "final_patterns = patterns_to_dict(patterns)\n",
        "\n",
        "###### Uploading to DB ######\n",
        "# upload_to_db(final_patterns, db_collection_name)\n",
        "\n",
        "# print what goes inside the db\n",
        "# print(final_patterns)\n",
        "# print(get_patterns_from_db(db_collection_name))\n"
      ],
      "metadata": {
        "id": "t7M-PSVLZbNF"
      },
      "execution_count": null,
      "outputs": []
    },
    {
      "cell_type": "markdown",
      "source": [],
      "metadata": {
        "id": "wQqg-MsD1Qo0"
      }
    }
  ],
  "metadata": {
    "colab": {
      "provenance": [],
      "include_colab_link": true
    },
    "kernelspec": {
      "display_name": "Python 3",
      "name": "python3"
    },
    "language_info": {
      "name": "python"
    }
  },
  "nbformat": 4,
  "nbformat_minor": 0
}