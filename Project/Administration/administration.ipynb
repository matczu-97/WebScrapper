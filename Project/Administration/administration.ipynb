{
  "cells": [
    {
      "cell_type": "markdown",
      "metadata": {
        "id": "view-in-github",
        "colab_type": "text"
      },
      "source": [
        "<a href=\"https://colab.research.google.com/github/ndvp39/CloudComputing-tirgul/blob/main/Project/Administration/administration.ipynb\" target=\"_parent\"><img src=\"https://colab.research.google.com/assets/colab-badge.svg\" alt=\"Open In Colab\"/></a>"
      ]
    },
    {
      "cell_type": "code",
      "source": [
        "%cd /content/CloudComputing-tirgul/Project/Index/\n",
        "%run index.ipynb"
      ],
      "metadata": {
        "id": "gFilYFulRGKQ"
      },
      "execution_count": null,
      "outputs": []
    },
    {
      "cell_type": "code",
      "source": [
        "index = get_index_from_db()"
      ],
      "metadata": {
        "id": "aVd058NDRkQH"
      },
      "execution_count": null,
      "outputs": []
    },
    {
      "cell_type": "code",
      "execution_count": null,
      "metadata": {
        "id": "Qu-nszRXeyxQ"
      },
      "outputs": [],
      "source": [
        "# Initialize Firebase Admin SDK\n",
        "cred = credentials.Certificate(\"/content/CloudComputing-tirgul/Project/Json/sak.json\")\n",
        "if not firebase_admin._apps:\n",
        "  firebase_admin.initialize_app(cred)\n",
        "db = firestore.client()"
      ]
    },
    {
      "cell_type": "code",
      "source": [
        "# Define the function to update or add a document\n",
        "def update_or_add_statistic(statistic_name):\n",
        "    statistics_ref = db.collection(\"statisticsPanthers\").document(statistic_name)\n",
        "    doc = statistics_ref.get()\n",
        "    if doc.exists:\n",
        "        # Document exists, update the counter\n",
        "        new_value = doc.to_dict().get(\"counter\", 0) + 1\n",
        "        statistics_ref.update({\"counter\": new_value})\n",
        "    else:\n",
        "        # Document doesn't exist, create a new one\n",
        "        statistics_ref.set({\"counter\": 1})"
      ],
      "metadata": {
        "id": "KWiVE7Ji6sU0"
      },
      "execution_count": null,
      "outputs": []
    },
    {
      "cell_type": "code",
      "source": [
        "# Function to get indexes and populate a combo box in a notebook.\n",
        "def get_indexes_keys():\n",
        "  index = get_index_from_db(db)\n",
        "  indexes = list(index.keys())\n",
        "  indexesArray = []\n",
        "  for idx in indexes:\n",
        "      indexesArray.append(idx)\n",
        "  # Convert Python arrays to JavaScript arrays\n",
        "  indexesArrayJS = ', '.join(f'\"{indx}\"' for indx in indexes)\n",
        "\n",
        "  js_code = f\"\"\"\n",
        "    <script>\n",
        "      populateFirstCombo([ {indexesArrayJS} ]);\n",
        "    </script>\n",
        "    \"\"\"\n",
        "  display(HTML(js_code))\n",
        "\n",
        "# Register the function to be called from JavaScript\n",
        "output.register_callback('notebook.get_indexes_keys', get_indexes_keys)\n",
        "\n",
        "# Function to get values for selected index and populate a second combo box.\n",
        "def get_indexes_values(indexes):\n",
        "    index = get_index_from_db(db)\n",
        "    url = list(index[indexes].keys())\n",
        "    # Convert Python arrays to JavaScript arrays\n",
        "    urlArray = ', '.join(f'\"{val}\"' for val in url)\n",
        "    js_code = f\"\"\"\n",
        "      <script>\n",
        "        populateSecondCombo([ {urlArray} ]);\n",
        "      </script>\n",
        "      \"\"\"\n",
        "    display(HTML(js_code))\n",
        "# Register the function to be called from JavaScript\n",
        "output.register_callback('notebook.get_indexes_values', get_indexes_values)"
      ],
      "metadata": {
        "id": "ozXGvm4U6szw"
      },
      "execution_count": null,
      "outputs": []
    },
    {
      "cell_type": "code",
      "source": [
        "# Generates random indexes for the statistics page.\n",
        "def get_random_indexes_with_counters():\n",
        "    # Randomly select 5 indexes\n",
        "    random_indexes = random.sample(list(index.keys()), 5)\n",
        "\n",
        "    indexes = []\n",
        "    counters = []\n",
        "\n",
        "    # Calculate sum of counters for each selected index\n",
        "    for idx in random_indexes:\n",
        "        index_sum = sum(entry['counter'] for entry in index[idx].values())\n",
        "        indexes.append(idx)\n",
        "        counters.append(index_sum)\n",
        "\n",
        "     # Convert Python arrays to JavaScript arrays\n",
        "    indexesArray = ', '.join(f'\"{indx}\"' for indx in indexes)\n",
        "    countersArray = ', '.join(f'\"{counter}\"' for counter in counters)\n",
        "\n",
        "    js_code = f\"\"\"\n",
        "    <script>\n",
        "      generateGraph([ {indexesArray} ], [ {countersArray} ]);\n",
        "    </script>\n",
        "    \"\"\"\n",
        "    display(HTML(js_code))\n",
        "\n",
        "# Register the function to be called from JavaScript\n",
        "output.register_callback('notebook.get_random_indexes_with_counters', get_random_indexes_with_counters)"
      ],
      "metadata": {
        "id": "R-JNLCo_64Di"
      },
      "execution_count": null,
      "outputs": []
    },
    {
      "cell_type": "code",
      "source": [
        "# Function to get key with minimum counter\n",
        "def get_key_with_min_counter():\n",
        "    statistics_ref = db.collection(\"statisticsPanthers\")\n",
        "\n",
        "    query = statistics_ref.order_by(\"counter\")\n",
        "\n",
        "    # Get the first document (minimum counter)\n",
        "    min_doc = query.limit(1).get()\n",
        "\n",
        "    for doc in min_doc:\n",
        "        min_key = doc.id\n",
        "        min_counter = doc.to_dict()[\"counter\"]\n",
        "\n",
        "    return min_key, min_counter\n",
        "\n",
        "# Function to get key with maximum counter\n",
        "def get_key_with_max_counter():\n",
        "    statistics_ref = db.collection(\"statisticsPanthers\")\n",
        "\n",
        "    query = statistics_ref.order_by(\"counter\", direction=firestore.Query.DESCENDING)\n",
        "\n",
        "    # Get the first document (maximum counter)\n",
        "    max_doc = query.limit(1).get()\n",
        "\n",
        "    for doc in max_doc:\n",
        "        max_key = doc.id\n",
        "        max_counter = doc.to_dict()[\"counter\"]\n",
        "\n",
        "    return max_key, max_counter\n",
        "\n",
        "# Function to get keys with min and max counters\n",
        "def get_min_max_keys():\n",
        "    min_key, min_counter = get_key_with_min_counter()\n",
        "    max_key, max_counter = get_key_with_max_counter()\n",
        "    # Convert counters to strings\n",
        "    min_counter_str = str(min_counter)\n",
        "    max_counter_str = str(max_counter)\n",
        "    js_code =  f\"\"\"\n",
        "    <script>\n",
        "      updateStatisticsBlock(\"{min_key}\", \"{min_counter_str}\", \"{max_key}\", \"{max_counter_str}\");\n",
        "    </script>\n",
        "    \"\"\"\n",
        "    display(HTML(js_code))\n",
        "\n",
        "# Register the function to be called from JavaScript\n",
        "output.register_callback('notebook.get_min_max_keys', get_min_max_keys)"
      ],
      "metadata": {
        "id": "KB9P8NW66-Ln"
      },
      "execution_count": null,
      "outputs": []
    },
    {
      "cell_type": "code",
      "source": [
        "# Removes the index from the database.\n",
        "def delete_index_from_db(index_to_delete):\n",
        "    collection_ref = db.collection(\"PantherIndex\")\n",
        "    docs = collection_ref.get()\n",
        "    for doc in docs:\n",
        "        # Searches the index to delete from the received list of documents.\n",
        "        if doc.to_dict()['term'] == index_to_delete:\n",
        "            doc.reference.delete()\n",
        "            index = get_index_from_db(db)\n",
        "            break\n",
        "output.register_callback('notebook.delete_index_from_db', delete_index_from_db)"
      ],
      "metadata": {
        "id": "Sgawyg9B7BXv"
      },
      "execution_count": null,
      "outputs": []
    },
    {
      "cell_type": "code",
      "source": [
        "# Removes the link from the database.\n",
        "def delete_link_from_db(link_index, link_to_delete):\n",
        "    collection_ref = db.collection(\"PantherIndex\")\n",
        "    docs = collection_ref.get()\n",
        "    for doc in docs:\n",
        "        doc_dict = doc.to_dict()\n",
        "         # Searches the link to delete from the received list of documents.\n",
        "        if \"DocId\" in doc_dict:\n",
        "            doc_id_links = doc_dict[\"DocId\"]\n",
        "            if link_to_delete in doc_id_links:\n",
        "                doc_id_links.pop(link_to_delete)\n",
        "                doc.reference.update({\"DocId\": doc_id_links})\n",
        "                index = get_index_from_db(db)\n",
        "                break\n",
        "output.register_callback('notebook.delete_link_from_db', delete_link_from_db)"
      ],
      "metadata": {
        "id": "HFlQbEMI7DmW"
      },
      "execution_count": null,
      "outputs": []
    }
  ],
  "metadata": {
    "colab": {
      "provenance": [],
      "include_colab_link": true
    },
    "kernelspec": {
      "display_name": "Python 3",
      "name": "python3"
    },
    "language_info": {
      "name": "python"
    }
  },
  "nbformat": 4,
  "nbformat_minor": 0
}